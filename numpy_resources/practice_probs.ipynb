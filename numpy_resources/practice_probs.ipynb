{
 "cells": [
  {
   "cell_type": "code",
   "execution_count": 1,
   "id": "eca78d38-a82b-4ced-abec-e29dc2ca6483",
   "metadata": {},
   "outputs": [],
   "source": [
    "import numpy as np"
   ]
  },
  {
   "cell_type": "code",
   "execution_count": 2,
   "id": "2ec966f2-bda8-4efa-8107-fa60b755f7dc",
   "metadata": {},
   "outputs": [],
   "source": [
    "arr = np.array([1,2,3,4])"
   ]
  },
  {
   "cell_type": "code",
   "execution_count": 3,
   "id": "2390d449-471a-4c9b-8f69-76455274171b",
   "metadata": {},
   "outputs": [
    {
     "name": "stdout",
     "output_type": "stream",
     "text": [
      "[1 2 3 4]\n"
     ]
    }
   ],
   "source": [
    "print(arr)"
   ]
  },
  {
   "cell_type": "code",
   "execution_count": 4,
   "id": "4ff9149a-8264-48e1-b126-338d94f01812",
   "metadata": {},
   "outputs": [
    {
     "name": "stdout",
     "output_type": "stream",
     "text": [
      "1\n"
     ]
    }
   ],
   "source": [
    "print(arr.ndim)"
   ]
  },
  {
   "cell_type": "code",
   "execution_count": 5,
   "id": "19d0cb97-5b7f-40ef-b0cf-df009dcb2d85",
   "metadata": {},
   "outputs": [
    {
     "name": "stdout",
     "output_type": "stream",
     "text": [
      "(4,)\n"
     ]
    }
   ],
   "source": [
    "print(arr.shape)"
   ]
  },
  {
   "cell_type": "code",
   "execution_count": 6,
   "id": "46b947f6-df2d-47ea-9e51-3a3a34b78207",
   "metadata": {},
   "outputs": [
    {
     "data": {
      "text/plain": [
       "4"
      ]
     },
     "execution_count": 6,
     "metadata": {},
     "output_type": "execute_result"
    }
   ],
   "source": [
    "len(arr)"
   ]
  },
  {
   "cell_type": "code",
   "execution_count": 7,
   "id": "278b76d7-f3be-459c-a406-39df271675c4",
   "metadata": {},
   "outputs": [],
   "source": [
    "arr_2d = np.array([\n",
    "    [10, 20, 30, 40, 50],\n",
    "    [100, 200, 300, 400, 500],\n",
    "])"
   ]
  },
  {
   "cell_type": "code",
   "execution_count": 8,
   "id": "35035feb-99bf-4f92-a5c4-5d71d0943fad",
   "metadata": {},
   "outputs": [
    {
     "data": {
      "text/plain": [
       "array([[ 10,  20,  30,  40,  50],\n",
       "       [100, 200, 300, 400, 500]])"
      ]
     },
     "execution_count": 8,
     "metadata": {},
     "output_type": "execute_result"
    }
   ],
   "source": [
    "arr_2d"
   ]
  },
  {
   "cell_type": "code",
   "execution_count": 9,
   "id": "2b7944a7-171a-4c20-ac69-83d32920dd6d",
   "metadata": {},
   "outputs": [
    {
     "name": "stdout",
     "output_type": "stream",
     "text": [
      "2\n"
     ]
    }
   ],
   "source": [
    "print(arr_2d.ndim)"
   ]
  },
  {
   "cell_type": "code",
   "execution_count": 10,
   "id": "f654ca19-d8f7-4797-924d-3ac8fff50cdb",
   "metadata": {},
   "outputs": [
    {
     "name": "stdout",
     "output_type": "stream",
     "text": [
      "(2, 5)\n"
     ]
    }
   ],
   "source": [
    "print(arr_2d.shape)"
   ]
  },
  {
   "cell_type": "code",
   "execution_count": 11,
   "id": "4e21721d-16d4-4c65-bd4f-ff0b74823abf",
   "metadata": {},
   "outputs": [
    {
     "name": "stdout",
     "output_type": "stream",
     "text": [
      "2\n"
     ]
    }
   ],
   "source": [
    "print(len(arr_2d))"
   ]
  },
  {
   "cell_type": "code",
   "execution_count": 12,
   "id": "172928a5-45d9-462e-87bf-02e13d6fde0b",
   "metadata": {},
   "outputs": [
    {
     "data": {
      "text/plain": [
       "10"
      ]
     },
     "execution_count": 12,
     "metadata": {},
     "output_type": "execute_result"
    }
   ],
   "source": [
    "arr_2d.size"
   ]
  },
  {
   "cell_type": "code",
   "execution_count": 13,
   "id": "58a400c5-4fef-4b92-8260-87e1ae63e814",
   "metadata": {},
   "outputs": [],
   "source": [
    "arr_3d = np.array([\n",
    "    [[100, 200, 300, 400, 500]],\n",
    "])"
   ]
  },
  {
   "cell_type": "code",
   "execution_count": 14,
   "id": "571a019b-fb32-42dc-a6f7-00984fc53997",
   "metadata": {},
   "outputs": [
    {
     "data": {
      "text/plain": [
       "3"
      ]
     },
     "execution_count": 14,
     "metadata": {},
     "output_type": "execute_result"
    }
   ],
   "source": [
    "arr_3d.ndim"
   ]
  },
  {
   "cell_type": "code",
   "execution_count": 15,
   "id": "0d16bb06-3aa5-43ae-953a-802403926c8f",
   "metadata": {},
   "outputs": [
    {
     "data": {
      "text/plain": [
       "1"
      ]
     },
     "execution_count": 15,
     "metadata": {},
     "output_type": "execute_result"
    }
   ],
   "source": [
    "len(arr_3d)"
   ]
  },
  {
   "cell_type": "code",
   "execution_count": 16,
   "id": "0bec8f98-f2ec-4c3c-9084-22a321428c63",
   "metadata": {},
   "outputs": [
    {
     "data": {
      "text/plain": [
       "5"
      ]
     },
     "execution_count": 16,
     "metadata": {},
     "output_type": "execute_result"
    }
   ],
   "source": [
    "arr_3d.size"
   ]
  },
  {
   "cell_type": "code",
   "execution_count": 17,
   "id": "e2d4165c-77eb-4dc8-9765-283c6404a18b",
   "metadata": {},
   "outputs": [
    {
     "data": {
      "text/plain": [
       "dtype('int64')"
      ]
     },
     "execution_count": 17,
     "metadata": {},
     "output_type": "execute_result"
    }
   ],
   "source": [
    "arr_3d.dtype"
   ]
  },
  {
   "cell_type": "code",
   "execution_count": 18,
   "id": "5241d6f7-cdd8-40fb-865d-b21e29815906",
   "metadata": {},
   "outputs": [
    {
     "data": {
      "text/plain": [
       "numpy.ndarray"
      ]
     },
     "execution_count": 18,
     "metadata": {},
     "output_type": "execute_result"
    }
   ],
   "source": [
    "type(arr_3d)"
   ]
  },
  {
   "cell_type": "code",
   "execution_count": 19,
   "id": "ada743e6-f5b4-433c-af4d-6cdff952e811",
   "metadata": {},
   "outputs": [
    {
     "data": {
      "text/plain": [
       "array([0., 0., 0.])"
      ]
     },
     "execution_count": 19,
     "metadata": {},
     "output_type": "execute_result"
    }
   ],
   "source": [
    "np.zeros(shape=3)"
   ]
  },
  {
   "cell_type": "code",
   "execution_count": 20,
   "id": "139dc438-6091-49b7-a9d8-4dbca9737889",
   "metadata": {},
   "outputs": [
    {
     "data": {
      "text/plain": [
       "array([[0., 0., 0., 0., 0.],\n",
       "       [0., 0., 0., 0., 0.],\n",
       "       [0., 0., 0., 0., 0.]])"
      ]
     },
     "execution_count": 20,
     "metadata": {},
     "output_type": "execute_result"
    }
   ],
   "source": [
    "np.zeros(shape=(3,5))"
   ]
  },
  {
   "cell_type": "code",
   "execution_count": 21,
   "id": "f1dfc4e0-b31c-492f-a7de-f18731e5fd7a",
   "metadata": {},
   "outputs": [
    {
     "data": {
      "text/plain": [
       "array([['cat', 'cat', 'cat', 'cat', 'cat'],\n",
       "       ['cat', 'cat', 'cat', 'cat', 'cat'],\n",
       "       ['cat', 'cat', 'cat', 'cat', 'cat']], dtype='<U3')"
      ]
     },
     "execution_count": 21,
     "metadata": {},
     "output_type": "execute_result"
    }
   ],
   "source": [
    "np.full(shape = (3,5), fill_value='cat')"
   ]
  },
  {
   "cell_type": "code",
   "execution_count": 22,
   "id": "5218e3d9-1af7-43bb-804b-4f9b0b30d616",
   "metadata": {},
   "outputs": [
    {
     "data": {
      "text/plain": [
       "array([1, 2, 3, 4])"
      ]
     },
     "execution_count": 22,
     "metadata": {},
     "output_type": "execute_result"
    }
   ],
   "source": [
    "np.arange(start=1, stop=5, step=1)"
   ]
  },
  {
   "cell_type": "code",
   "execution_count": 23,
   "id": "44463728-039c-4b68-8178-76882462c8e4",
   "metadata": {},
   "outputs": [
    {
     "data": {
      "text/plain": [
       "array([0, 1, 2, 3])"
      ]
     },
     "execution_count": 23,
     "metadata": {},
     "output_type": "execute_result"
    }
   ],
   "source": [
    "np.arange(4)"
   ]
  },
  {
   "cell_type": "code",
   "execution_count": 24,
   "id": "25f4b677-47e7-4a0f-8e3b-96a55d28e018",
   "metadata": {},
   "outputs": [],
   "source": [
    "foo = np.arange(start=1, stop=5, step=1)"
   ]
  },
  {
   "cell_type": "code",
   "execution_count": 25,
   "id": "abeb5d1e-bf30-4fec-bbd9-b06065dea24d",
   "metadata": {},
   "outputs": [
    {
     "data": {
      "text/plain": [
       "array([1, 2, 3])"
      ]
     },
     "execution_count": 25,
     "metadata": {},
     "output_type": "execute_result"
    }
   ],
   "source": [
    "foo[[0,1,2]]"
   ]
  },
  {
   "cell_type": "code",
   "execution_count": 26,
   "id": "0da5fe0f-1884-4459-b504-a2df914b7f86",
   "metadata": {},
   "outputs": [
    {
     "data": {
      "text/plain": [
       "array([1, 2, 3])"
      ]
     },
     "execution_count": 26,
     "metadata": {},
     "output_type": "execute_result"
    }
   ],
   "source": [
    "foo[np.arange(3)]"
   ]
  },
  {
   "cell_type": "code",
   "execution_count": 27,
   "id": "b4f53496-1fb5-4a2b-9dc3-29d95ec88eea",
   "metadata": {},
   "outputs": [
    {
     "name": "stdout",
     "output_type": "stream",
     "text": [
      "[3 4]\n"
     ]
    }
   ],
   "source": [
    "print(foo[2:])"
   ]
  },
  {
   "cell_type": "code",
   "execution_count": 28,
   "id": "243e26df-91b8-47ca-844c-218ea1460d8e",
   "metadata": {},
   "outputs": [
    {
     "data": {
      "text/plain": [
       "array([1, 2, 3, 4])"
      ]
     },
     "execution_count": 28,
     "metadata": {},
     "output_type": "execute_result"
    }
   ],
   "source": [
    "foo"
   ]
  },
  {
   "cell_type": "code",
   "execution_count": 29,
   "id": "576ee164-c366-418a-9475-80a22c2a49d0",
   "metadata": {},
   "outputs": [
    {
     "data": {
      "text/plain": [
       "array([1, 3])"
      ]
     },
     "execution_count": 29,
     "metadata": {},
     "output_type": "execute_result"
    }
   ],
   "source": [
    "foo[::2]"
   ]
  },
  {
   "cell_type": "code",
   "execution_count": 30,
   "id": "4204d200-b1df-4909-b56c-c252f2485a69",
   "metadata": {},
   "outputs": [
    {
     "data": {
      "text/plain": [
       "array([3, 4])"
      ]
     },
     "execution_count": 30,
     "metadata": {},
     "output_type": "execute_result"
    }
   ],
   "source": [
    "foo[2:]"
   ]
  },
  {
   "cell_type": "code",
   "execution_count": 31,
   "id": "488e1fc9-d8b6-4ac5-b7f7-b3068e2ec190",
   "metadata": {},
   "outputs": [
    {
     "data": {
      "text/plain": [
       "array([[[100, 200, 300, 400, 500]]])"
      ]
     },
     "execution_count": 31,
     "metadata": {},
     "output_type": "execute_result"
    }
   ],
   "source": [
    "arr_3d"
   ]
  },
  {
   "cell_type": "code",
   "execution_count": 32,
   "id": "82fd61bd-b69f-4f8f-964c-eb3a09223864",
   "metadata": {},
   "outputs": [
    {
     "data": {
      "text/plain": [
       "array([[ 10,  20,  30,  40,  50],\n",
       "       [100, 200, 300, 400, 500]])"
      ]
     },
     "execution_count": 32,
     "metadata": {},
     "output_type": "execute_result"
    }
   ],
   "source": [
    "arr_2d"
   ]
  },
  {
   "cell_type": "code",
   "execution_count": 33,
   "id": "8b1bcecd-61fb-45c5-b333-a6151f18322c",
   "metadata": {},
   "outputs": [
    {
     "data": {
      "text/plain": [
       "array([[10, 20, 30, 40, 50]])"
      ]
     },
     "execution_count": 33,
     "metadata": {},
     "output_type": "execute_result"
    }
   ],
   "source": [
    "arr_2d[0,None]"
   ]
  },
  {
   "cell_type": "code",
   "execution_count": 34,
   "id": "edef7904-e759-4f58-94df-8d5b34d64558",
   "metadata": {},
   "outputs": [
    {
     "data": {
      "text/plain": [
       "array([10, 20, 30, 40, 50])"
      ]
     },
     "execution_count": 34,
     "metadata": {},
     "output_type": "execute_result"
    }
   ],
   "source": [
    "arr_2d[0]"
   ]
  },
  {
   "cell_type": "code",
   "execution_count": 35,
   "id": "d65959c0-8d4f-4856-aa9f-624486da5db2",
   "metadata": {},
   "outputs": [
    {
     "data": {
      "text/plain": [
       "np.int64(20)"
      ]
     },
     "execution_count": 35,
     "metadata": {},
     "output_type": "execute_result"
    }
   ],
   "source": [
    "arr_2d[0,1]"
   ]
  },
  {
   "cell_type": "code",
   "execution_count": 36,
   "id": "844411cf-a006-4f9c-a5fb-02b30ace210b",
   "metadata": {},
   "outputs": [
    {
     "data": {
      "text/plain": [
       "array([[10, 20, 30, 40, 50]])"
      ]
     },
     "execution_count": 36,
     "metadata": {},
     "output_type": "execute_result"
    }
   ],
   "source": [
    "arr_2d[:1]"
   ]
  },
  {
   "cell_type": "code",
   "execution_count": 37,
   "id": "8df80506-b2ad-4f10-86d3-0390685edddc",
   "metadata": {},
   "outputs": [],
   "source": [
    "foo = np.arange(start=1, stop=22,step=1).reshape(7,3)"
   ]
  },
  {
   "cell_type": "code",
   "execution_count": 38,
   "id": "ee7ef574-3196-4c11-b1e9-e15868c3db7a",
   "metadata": {},
   "outputs": [
    {
     "data": {
      "text/plain": [
       "array([[ 1,  2,  3],\n",
       "       [ 4,  5,  6],\n",
       "       [ 7,  8,  9],\n",
       "       [10, 11, 12],\n",
       "       [13, 14, 15],\n",
       "       [16, 17, 18],\n",
       "       [19, 20, 21]])"
      ]
     },
     "execution_count": 38,
     "metadata": {},
     "output_type": "execute_result"
    }
   ],
   "source": [
    "foo"
   ]
  },
  {
   "cell_type": "code",
   "execution_count": 39,
   "id": "732161fe-8ad6-4a63-a5c3-684fde6a0c13",
   "metadata": {},
   "outputs": [
    {
     "data": {
      "text/plain": [
       "array([[1, 2, 3],\n",
       "       [4, 5, 6],\n",
       "       [7, 8, 9]])"
      ]
     },
     "execution_count": 39,
     "metadata": {},
     "output_type": "execute_result"
    }
   ],
   "source": [
    "foo[:3]"
   ]
  },
  {
   "cell_type": "code",
   "execution_count": 40,
   "id": "872ce1f8-9549-4aa6-8019-28639bd98701",
   "metadata": {},
   "outputs": [
    {
     "data": {
      "text/plain": [
       "array([[4, 5, 6],\n",
       "       [7, 8, 9]])"
      ]
     },
     "execution_count": 40,
     "metadata": {},
     "output_type": "execute_result"
    }
   ],
   "source": [
    "foo[1:3]"
   ]
  },
  {
   "cell_type": "code",
   "execution_count": 41,
   "id": "1dc95a15-2ff5-494b-b73d-b9f7a90661f1",
   "metadata": {},
   "outputs": [],
   "source": [
    "dailywts = 185 - np.arange(5*7)/5"
   ]
  },
  {
   "cell_type": "code",
   "execution_count": 42,
   "id": "4f606004-19d4-41ea-a454-1c93a8821dba",
   "metadata": {},
   "outputs": [
    {
     "data": {
      "text/plain": [
       "array([[185. , 184.8, 184.6, 184.4, 184.2, 184. , 183.8],\n",
       "       [183.6, 183.4, 183.2, 183. , 182.8, 182.6, 182.4],\n",
       "       [182.2, 182. , 181.8, 181.6, 181.4, 181.2, 181. ],\n",
       "       [180.8, 180.6, 180.4, 180.2, 180. , 179.8, 179.6],\n",
       "       [179.4, 179.2, 179. , 178.8, 178.6, 178.4, 178.2]])"
      ]
     },
     "execution_count": 42,
     "metadata": {},
     "output_type": "execute_result"
    }
   ],
   "source": [
    "dailywts.reshape(5,7)"
   ]
  },
  {
   "cell_type": "code",
   "execution_count": 43,
   "id": "87794393-1be1-4b6a-9db6-4bec56e5364b",
   "metadata": {},
   "outputs": [
    {
     "data": {
      "text/plain": [
       "array([183.9, 182.5, 181.1, 179.7, 178.3])"
      ]
     },
     "execution_count": 43,
     "metadata": {},
     "output_type": "execute_result"
    }
   ],
   "source": [
    "(dailywts[5::7] + dailywts[6::7])/2"
   ]
  },
  {
   "cell_type": "code",
   "execution_count": 44,
   "id": "962eac10-68d2-4db4-998b-ae7967128466",
   "metadata": {},
   "outputs": [
    {
     "data": {
      "text/plain": [
       "array([[ 1,  3,  5,  7,  9, 11, 13],\n",
       "       [17, 19, 21, 23, 25, 27, 29],\n",
       "       [33, 35, 37, 39, 41, 43, 45],\n",
       "       [49, 51, 53, 55, 57, 59, 61]])"
      ]
     },
     "execution_count": 44,
     "metadata": {},
     "output_type": "execute_result"
    }
   ],
   "source": [
    "np.arange(start=1,stop=65, step=2).reshape(4,-1)[:,:-1]"
   ]
  },
  {
   "cell_type": "code",
   "execution_count": 84,
   "id": "ad4b9e3f-539f-4721-a738-6ec82f0cce72",
   "metadata": {},
   "outputs": [
    {
     "data": {
      "text/plain": [
       "array([2, 6, 2, 8, 2])"
      ]
     },
     "execution_count": 84,
     "metadata": {},
     "output_type": "execute_result"
    }
   ],
   "source": [
    "# np.random.seed(55)\n",
    "np.random.seed(5555)\n",
    "gold = np.random.randint(low=0, high=10, size=(7,7))\n",
    " \n",
    "locs = np.array([\n",
    "    [0,4],\n",
    "    [2,2],\n",
    "    [2,3],\n",
    "    [5,1],\n",
    "    [6,3]\n",
    "])\n",
    "\n",
    "gold[locs[:,0],locs[:,1]]"
   ]
  },
  {
   "cell_type": "code",
   "execution_count": 98,
   "id": "49e27d59-669f-4f7b-838f-dec590ec71ba",
   "metadata": {},
   "outputs": [
    {
     "data": {
      "text/plain": [
       "array([1, 0, 4, 0, 9])"
      ]
     },
     "execution_count": 98,
     "metadata": {},
     "output_type": "execute_result"
    }
   ],
   "source": [
    "arr = np.arange(1,5)\n",
    "sqr = np.square(arr)\n",
    "z = np.zeros(5,dtype=int)\n",
    "z[::2] = sqr[:(z[::2].size)]\n",
    "z"
   ]
  },
  {
   "cell_type": "code",
   "execution_count": 122,
   "id": "0abb6cbd-d977-4a27-a3a6-cff681ce26a5",
   "metadata": {},
   "outputs": [],
   "source": [
    "def make_roux(n):\n",
    "    isEven = (n % 2) == 0\n",
    "    z = np.zeros(n,dtype=int)\n",
    "    sqr = np.square(np.arange(1,n))[:(z[isEven::2].size)][::-1]\n",
    "    z[isEven::2]=sqr[:(z[isEven::2].size)]\n",
    "    return z"
   ]
  },
  {
   "cell_type": "code",
   "execution_count": 125,
   "id": "d84a6e62-e80f-4a52-9fda-6bf55912b652",
   "metadata": {},
   "outputs": [
    {
     "data": {
      "text/plain": [
       "array([ 0, 36,  0, 25,  0, 16,  0,  9,  0,  4,  0,  1])"
      ]
     },
     "execution_count": 125,
     "metadata": {},
     "output_type": "execute_result"
    }
   ],
   "source": [
    "make_roux(12)"
   ]
  },
  {
   "cell_type": "code",
   "execution_count": 115,
   "id": "3fe4fee5-6d8f-4e1b-91f0-2cd391a828b1",
   "metadata": {},
   "outputs": [
    {
     "data": {
      "text/plain": [
       "array([ 1,  4,  9, 16, 25, 36, 49])"
      ]
     },
     "execution_count": 115,
     "metadata": {},
     "output_type": "execute_result"
    }
   ],
   "source": [
    "np.square(np.arange(1,8))"
   ]
  },
  {
   "cell_type": "code",
   "execution_count": 131,
   "id": "ad35a7a7-d1b5-418e-acdc-a158f9bdbcab",
   "metadata": {},
   "outputs": [
    {
     "data": {
      "text/plain": [
       "3"
      ]
     },
     "execution_count": 131,
     "metadata": {},
     "output_type": "execute_result"
    }
   ],
   "source": [
    "import math\n",
    "math.ceil((5/2))"
   ]
  },
  {
   "cell_type": "code",
   "execution_count": 176,
   "id": "f17b24be-b93a-4805-8b05-48471af9e700",
   "metadata": {},
   "outputs": [],
   "source": [
    "def make_roux(n):\n",
    "    size = math.ceil((n/2))\n",
    "    z = np.zeros(n,dtype=int)\n",
    "    sqr = np.square(np.arange(1,size+1))\n",
    "    z[::-2] = sqr\n",
    "    return z"
   ]
  },
  {
   "cell_type": "code",
   "execution_count": 177,
   "id": "173f3f0d-7967-48bc-9f77-ec6763c646b3",
   "metadata": {
    "scrolled": true
   },
   "outputs": [
    {
     "data": {
      "text/plain": [
       "array([ 0, 16,  0,  9,  0,  4,  0,  1])"
      ]
     },
     "execution_count": 177,
     "metadata": {},
     "output_type": "execute_result"
    }
   ],
   "source": [
    "make_roux(8)"
   ]
  },
  {
   "cell_type": "code",
   "execution_count": 179,
   "id": "d968b4a3-7eaa-4e51-8268-20dcdeb2efeb",
   "metadata": {
    "scrolled": true
   },
   "outputs": [
    {
     "data": {
      "text/plain": [
       "np.float64(7.5)"
      ]
     },
     "execution_count": 179,
     "metadata": {},
     "output_type": "execute_result"
    }
   ],
   "source": [
    "30 - np.array([17,28]).mean()"
   ]
  },
  {
   "cell_type": "code",
   "execution_count": 181,
   "id": "de9066b1-8e38-4448-b8bf-e5cc6b7a6dd3",
   "metadata": {
    "scrolled": true
   },
   "outputs": [
    {
     "data": {
      "text/plain": [
       "np.float64(4.0)"
      ]
     },
     "execution_count": 181,
     "metadata": {},
     "output_type": "execute_result"
    }
   ],
   "source": [
    "np.array([32,36]).mean() - 30"
   ]
  },
  {
   "cell_type": "code",
   "execution_count": 186,
   "id": "838ea1c3-1489-4742-aaba-5b9ce6446e30",
   "metadata": {
    "scrolled": true
   },
   "outputs": [
    {
     "data": {
      "text/plain": [
       "array([7.5, 4. ])"
      ]
     },
     "execution_count": 186,
     "metadata": {},
     "output_type": "execute_result"
    }
   ],
   "source": [
    "np.abs(np.linspace([17,32],[28,36],num=3, axis=1) - 30)[[0,1],[1,1]]"
   ]
  },
  {
   "cell_type": "code",
   "execution_count": null,
   "id": "afced532-43d9-42f1-8ae6-e44052417f72",
   "metadata": {},
   "outputs": [],
   "source": []
  },
  {
   "cell_type": "code",
   "execution_count": 31,
   "id": "fb5b66b4-0e9b-469b-9439-7469d6a28477",
   "metadata": {},
   "outputs": [],
   "source": [
    "generator = np.random.default_rng(1010)"
   ]
  },
  {
   "cell_type": "code",
   "execution_count": 32,
   "id": "3cff5da4-f8c7-4786-b8b3-5e7ec8ab31a6",
   "metadata": {
    "scrolled": true
   },
   "outputs": [
    {
     "name": "stdout",
     "output_type": "stream",
     "text": [
      "[[ 9.5 ]\n",
      " [53.58]\n",
      " [91.77]\n",
      " [98.15]\n",
      " [84.88]\n",
      " [74.61]\n",
      " [40.94]\n",
      " [56.49]\n",
      " [ 8.39]\n",
      " [64.69]]\n",
      "[[ 0.   44.08 82.27 88.65 75.38 65.11 31.44 46.99  1.11 55.19]\n",
      " [44.08  0.   38.19 44.57 31.3  21.03 12.64  2.91 45.19 11.11]\n",
      " [82.27 38.19  0.    6.38  6.89 17.16 50.83 35.28 83.38 27.08]\n",
      " [88.65 44.57  6.38  0.   13.27 23.54 57.21 41.66 89.76 33.46]\n",
      " [75.38 31.3   6.89 13.27  0.   10.27 43.94 28.39 76.49 20.19]\n",
      " [65.11 21.03 17.16 23.54 10.27  0.   33.67 18.12 66.22  9.92]\n",
      " [31.44 12.64 50.83 57.21 43.94 33.67  0.   15.55 32.55 23.75]\n",
      " [46.99  2.91 35.28 41.66 28.39 18.12 15.55  0.   48.1   8.2 ]\n",
      " [ 1.11 45.19 83.38 89.76 76.49 66.22 32.55 48.1   0.   56.3 ]\n",
      " [55.19 11.11 27.08 33.46 20.19  9.92 23.75  8.2  56.3   0.  ]]\n",
      "[[ 0.   44.08 82.27 88.65 75.38 65.11 31.44 46.99  1.11 55.19]\n",
      " [44.08  0.   38.19 44.57 31.3  21.03 12.64  2.91 45.19 11.11]\n",
      " [82.27 38.19  0.    6.38  6.89 17.16 50.83 35.28 83.38 27.08]\n",
      " [88.65 44.57  6.38  0.   13.27 23.54 57.21 41.66 89.76 33.46]\n",
      " [75.38 31.3   6.89 13.27  0.   10.27 43.94 28.39 76.49 20.19]\n",
      " [65.11 21.03 17.16 23.54 10.27  0.   33.67 18.12 66.22  9.92]\n",
      " [31.44 12.64 50.83 57.21 43.94 33.67  0.   15.55 32.55 23.75]\n",
      " [46.99  2.91 35.28 41.66 28.39 18.12 15.55  0.   48.1   8.2 ]\n",
      " [ 1.11 45.19 83.38 89.76 76.49 66.22 32.55 48.1   0.   56.3 ]\n",
      " [55.19 11.11 27.08 33.46 20.19  9.92 23.75  8.2  56.3   0.  ]]\n"
     ]
    }
   ],
   "source": [
    "love_scores = np.round(generator.uniform(low=0,high=100,size=10),2)\n",
    "mod = love_scores[:,np.newaxis]\n",
    "transposed = mod.T\n",
    "print(mod)\n",
    "print(np.abs(transposed - mod))\n",
    "print(np.abs(love_scores[:,None] - love_scores[None,:]))"
   ]
  },
  {
   "cell_type": "code",
   "execution_count": 57,
   "id": "d86d6bfb-632f-4a20-8db4-98557788f420",
   "metadata": {},
   "outputs": [],
   "source": [
    "generator = np.random.default_rng(80085)\n",
    "scores = np.round(generator.uniform(low=30, high=100, size=15))\n",
    " \n",
    "scores[(scores < 60).nonzero()[0][:3]] = 0"
   ]
  },
  {
   "cell_type": "code",
   "execution_count": 89,
   "id": "30eab69b-da80-47a2-b5ca-67788009b0e9",
   "metadata": {},
   "outputs": [
    {
     "name": "stdout",
     "output_type": "stream",
     "text": [
      "[[ 0.52  0.    0.   -1.48  0.    2.91  0.    0.    0.    0.  ]\n",
      " [ 0.   -1.27  0.    0.    0.   -1.6   0.    1.73  0.    0.  ]\n",
      " [ 0.    0.    0.    0.    0.43  0.    0.    0.    0.    0.  ]\n",
      " [ 0.    0.    0.    0.    0.    0.34  0.    0.    0.   -1.67]\n",
      " [ 0.    0.86  0.74  0.    0.    0.    1.32  0.    0.52  0.  ]\n",
      " [ 0.   -1.    0.    0.    0.    0.15  0.    0.    0.    0.  ]\n",
      " [ 0.   -0.51  0.   -0.86  0.    0.    0.    0.    0.    0.  ]\n",
      " [ 0.    0.    0.    0.    0.    0.    0.    0.    0.    0.  ]\n",
      " [ 0.    0.    0.    0.   -2.16  0.    0.95  0.    0.    0.  ]\n",
      " [ 0.    0.    0.    0.    0.    0.    0.    0.    0.    0.06]]\n"
     ]
    }
   ],
   "source": [
    "\n",
    "field = np.zeros(shape = (10, 10))\n",
    "generator = np.random.default_rng(1234)\n",
    "vals = np.round(generator.normal(size=20),2)\n",
    "indexes = generator.choice(field.size, len(vals),replace=False)\n",
    "field.ravel()[indexes] = vals\n",
    "print(field)"
   ]
  },
  {
   "cell_type": "code",
   "execution_count": 94,
   "id": "cbe27e17-d7fd-4fd6-8b8d-74d495a09346",
   "metadata": {},
   "outputs": [
    {
     "data": {
      "text/plain": [
       "array([['a', 'b'],\n",
       "       ['c', 'd']], dtype='<U1')"
      ]
     },
     "execution_count": 94,
     "metadata": {},
     "output_type": "execute_result"
    }
   ],
   "source": [
    "foo = np.array(['a', 'b'])\n",
    "bar = np.array(['c', 'd'])\n",
    "np.concatenate((foo,bar),axis=0)\n",
    "np.vstack((foo,bar))"
   ]
  },
  {
   "cell_type": "code",
   "execution_count": 28,
   "id": "a5ffb7e6-cc61-44df-b91c-db8f93010cb2",
   "metadata": {},
   "outputs": [
    {
     "data": {
      "text/plain": [
       "array([[ 7.,  1.,  7.],\n",
       "       [nan,  2.,  2.],\n",
       "       [nan,  8.,  8.],\n",
       "       [ 9.,  3.,  9.],\n",
       "       [ 8.,  9.,  8.],\n",
       "       [ 5.,  2.,  5.],\n",
       "       [ 8.,  2.,  8.],\n",
       "       [nan,  6.,  6.],\n",
       "       [ 9.,  2.,  9.],\n",
       "       [nan,  5.,  5.]])"
      ]
     },
     "execution_count": 28,
     "metadata": {},
     "output_type": "execute_result"
    }
   ],
   "source": [
    "gen = np.random.default_rng(123)\n",
    "ratings = np.round(gen.uniform(low=0,high=10.0, size=(10,2)))\n",
    "ratings[[1,2,7,9],[0,0,0,0]] = np.nan\n",
    "n = ~(np.isnan(ratings))\n",
    "# print(ratings)\n",
    "move_rating = ratings[:,0]\n",
    "dir_rating = ratings[:,1]\n",
    "final = np.where(np.isnan(ratings[:,0]),ratings[:,1],ratings[:,0])\n",
    "np.insert(arr=ratings,values=final,axis=1,obj=2)\n",
    "# np.where(n,0,ratings)"
   ]
  }
 ],
 "metadata": {
  "kernelspec": {
   "display_name": "myenv",
   "language": "python",
   "name": "myenv"
  },
  "language_info": {
   "codemirror_mode": {
    "name": "ipython",
    "version": 3
   },
   "file_extension": ".py",
   "mimetype": "text/x-python",
   "name": "python",
   "nbconvert_exporter": "python",
   "pygments_lexer": "ipython3",
   "version": "3.13.1"
  }
 },
 "nbformat": 4,
 "nbformat_minor": 5
}
